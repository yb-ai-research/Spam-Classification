{
 "cells": [
  {
   "cell_type": "code",
   "execution_count": 3,
   "id": "7b1bdb3b-5607-418d-8ebe-552a3173b970",
   "metadata": {},
   "outputs": [],
   "source": [
    "import tarfile\n",
    "import urllib.request\n",
    "from pathlib import Path\n",
    "\n",
    "def fetch_spam_data():\n",
    "    spam_root = \"http://spamassassin.apache.org/old/publiccorpus/\"\n",
    "    ham_url = spam_root + \"20030228_easy_ham.tar.bz2\"\n",
    "    spam_url = spam_root + \"20030228_spam.tar.bz2\"\n",
    "\n",
    "    spam_path = Path() / \"..\" / \"datasets\" / \"spam\"\n",
    "    spam_path.mkdir(parents=True, exist_ok=True)\n",
    "    for dir_name, tar_name, url in ((\"easy_ham\", \"ham\", ham_url),\n",
    "                                    (\"spam\", \"spam\", spam_url)):\n",
    "        if not (spam_path / dir_name).is_dir():\n",
    "            path = (spam_path / tar_name).with_suffix(\".tar.bz2\")\n",
    "            print(\"Downloading\", path)\n",
    "            urllib.request.urlretrieve(url, path)\n",
    "            tar_bz2_file = tarfile.open(path)\n",
    "            tar_bz2_file.extractall(path=spam_path)\n",
    "            tar_bz2_file.close()\n",
    "    return [spam_path / dir_name for dir_name in (\"easy_ham\", \"spam\")]"
   ]
  },
  {
   "cell_type": "code",
   "execution_count": 4,
   "id": "e908a420-1665-499e-a4f0-fa0618f49bda",
   "metadata": {},
   "outputs": [],
   "source": [
    "ham_dir, spam_dir = fetch_spam_data()"
   ]
  },
  {
   "cell_type": "code",
   "execution_count": 5,
   "id": "ab4e3d18-c271-4c69-a0ac-72f2ef9165af",
   "metadata": {},
   "outputs": [],
   "source": [
    "ham_filenames = [f for f in sorted(ham_dir.iterdir()) if len(f.name) > 20]\n",
    "spam_filenames = [f for f in sorted(spam_dir.iterdir()) if len(f.name) > 20]"
   ]
  },
  {
   "cell_type": "code",
   "execution_count": 6,
   "id": "aa6dbf45-4024-4ec8-867f-ebdab15dff9b",
   "metadata": {},
   "outputs": [
    {
     "data": {
      "text/plain": [
       "2500"
      ]
     },
     "execution_count": 6,
     "metadata": {},
     "output_type": "execute_result"
    }
   ],
   "source": [
    "len(ham_filenames)"
   ]
  },
  {
   "cell_type": "code",
   "execution_count": 7,
   "id": "1caf4a8f-4743-491e-a9ae-e60bc3956983",
   "metadata": {},
   "outputs": [
    {
     "data": {
      "text/plain": [
       "500"
      ]
     },
     "execution_count": 7,
     "metadata": {},
     "output_type": "execute_result"
    }
   ],
   "source": [
    "len(spam_filenames)"
   ]
  },
  {
   "cell_type": "code",
   "execution_count": 8,
   "id": "c49cfd06-106f-4e23-a50e-e66f6d941810",
   "metadata": {},
   "outputs": [],
   "source": [
    "import email\n",
    "import email.policy\n",
    "\n",
    "def load_email(filepath):\n",
    "    with open(filepath, \"rb\") as f:\n",
    "        return email.parser.BytesParser(policy=email.policy.default).parse(f)"
   ]
  },
  {
   "cell_type": "code",
   "execution_count": 9,
   "id": "9067da2f-ab50-4015-beba-54cd8a2562ee",
   "metadata": {},
   "outputs": [],
   "source": [
    "ham_emails = [load_email(filepath) for filepath in ham_filenames]\n",
    "spam_emails = [load_email(filepath) for filepath in spam_filenames]"
   ]
  },
  {
   "cell_type": "code",
   "execution_count": 10,
   "id": "1674d50e-61f1-496e-b101-25136b9339c5",
   "metadata": {},
   "outputs": [
    {
     "name": "stdout",
     "output_type": "stream",
     "text": [
      "Martin A posted:\n",
      "Tassos Papadopoulos, the Greek sculptor behind the plan, judged that the\n",
      " limestone of Mount Kerdylio, 70 miles east of Salonika and not far from the\n",
      " Mount Athos monastic community, was ideal for the patriotic sculpture. \n",
      " \n",
      " As well as Alexander's granite features, 240 ft high and 170 ft wide, a\n",
      " museum, a restored amphitheatre and car park for admiring crowds are\n",
      "planned\n",
      "---------------------\n",
      "So is this mountain limestone or granite?\n",
      "If it's limestone, it'll weather pretty fast.\n",
      "\n",
      "------------------------ Yahoo! Groups Sponsor ---------------------~-->\n",
      "4 DVDs Free +s&p Join Now\n",
      "http://us.click.yahoo.com/pt6YBB/NXiEAA/mG3HAA/7gSolB/TM\n",
      "---------------------------------------------------------------------~->\n",
      "\n",
      "To unsubscribe from this group, send an email to:\n",
      "forteana-unsubscribe@egroups.com\n",
      "\n",
      " \n",
      "\n",
      "Your use of Yahoo! Groups is subject to http://docs.yahoo.com/info/terms/\n"
     ]
    }
   ],
   "source": [
    "print(ham_emails[1].get_content().strip())"
   ]
  },
  {
   "cell_type": "code",
   "execution_count": 11,
   "id": "89d742d0-1fae-4cc1-ba56-502d39c1b74a",
   "metadata": {},
   "outputs": [
    {
     "name": "stdout",
     "output_type": "stream",
     "text": [
      "Help wanted.  We are a 14 year old fortune 500 company, that is\n",
      "growing at a tremendous rate.  We are looking for individuals who\n",
      "want to work from home.\n",
      "\n",
      "This is an opportunity to make an excellent income.  No experience\n",
      "is required.  We will train you.\n",
      "\n",
      "So if you are looking to be employed from home with a career that has\n",
      "vast opportunities, then go:\n",
      "\n",
      "http://www.basetel.com/wealthnow\n",
      "\n",
      "We are looking for energetic and self motivated people.  If that is you\n",
      "than click on the link and fill out the form, and one of our\n",
      "employement specialist will contact you.\n",
      "\n",
      "To be removed from our link simple go to:\n",
      "\n",
      "http://www.basetel.com/remove.html\n",
      "\n",
      "\n",
      "4139vOLW7-758DoDY1425FRhM1-764SMFc8513fCsLl40\n"
     ]
    }
   ],
   "source": [
    "print(spam_emails[6].get_content().strip())"
   ]
  },
  {
   "cell_type": "code",
   "execution_count": 12,
   "id": "8df1bc67-e5bd-42e9-bed8-b659307dd796",
   "metadata": {},
   "outputs": [],
   "source": [
    "def get_email_structure(email):\n",
    "    if isinstance(email, str):\n",
    "        return email\n",
    "    payload = email.get_payload()\n",
    "    if isinstance(payload, list):\n",
    "        multipart = \", \".join([get_email_structure(sub_email)\n",
    "                               for sub_email in payload])\n",
    "        return f\"multipart({multipart})\"\n",
    "    else:\n",
    "        return email.get_content_type()"
   ]
  },
  {
   "cell_type": "code",
   "execution_count": 13,
   "id": "c297b7e3-3a9f-435d-b5f8-83ac2b5f3112",
   "metadata": {},
   "outputs": [],
   "source": [
    "from collections import Counter\n",
    "\n",
    "def structures_counter(emails):\n",
    "    structures = Counter()\n",
    "    for email in emails:\n",
    "        structure = get_email_structure(email)\n",
    "        structures[structure] += 1\n",
    "    return structures"
   ]
  },
  {
   "cell_type": "code",
   "execution_count": 14,
   "id": "66c4553d-fcb7-4e74-9e2f-6e803b182f7c",
   "metadata": {},
   "outputs": [
    {
     "data": {
      "text/plain": [
       "[('text/plain', 2408),\n",
       " ('multipart(text/plain, application/pgp-signature)', 66),\n",
       " ('multipart(text/plain, text/html)', 8),\n",
       " ('multipart(text/plain, text/plain)', 4),\n",
       " ('multipart(text/plain)', 3),\n",
       " ('multipart(text/plain, application/octet-stream)', 2),\n",
       " ('multipart(text/plain, text/enriched)', 1),\n",
       " ('multipart(text/plain, application/ms-tnef, text/plain)', 1),\n",
       " ('multipart(multipart(text/plain, text/plain, text/plain), application/pgp-signature)',\n",
       "  1),\n",
       " ('multipart(text/plain, video/mng)', 1),\n",
       " ('multipart(text/plain, multipart(text/plain))', 1),\n",
       " ('multipart(text/plain, application/x-pkcs7-signature)', 1),\n",
       " ('multipart(text/plain, multipart(text/plain, text/plain), text/rfc822-headers)',\n",
       "  1),\n",
       " ('multipart(text/plain, multipart(text/plain, text/plain), multipart(multipart(text/plain, application/x-pkcs7-signature)))',\n",
       "  1),\n",
       " ('multipart(text/plain, application/x-java-applet)', 1)]"
      ]
     },
     "execution_count": 14,
     "metadata": {},
     "output_type": "execute_result"
    }
   ],
   "source": [
    "structures_counter(ham_emails).most_common()"
   ]
  },
  {
   "cell_type": "code",
   "execution_count": 15,
   "id": "2237e951-2e09-40bc-9b97-c6e90cc4add2",
   "metadata": {},
   "outputs": [
    {
     "data": {
      "text/plain": [
       "[('text/plain', 218),\n",
       " ('text/html', 183),\n",
       " ('multipart(text/plain, text/html)', 45),\n",
       " ('multipart(text/html)', 20),\n",
       " ('multipart(text/plain)', 19),\n",
       " ('multipart(multipart(text/html))', 5),\n",
       " ('multipart(text/plain, image/jpeg)', 3),\n",
       " ('multipart(text/html, application/octet-stream)', 2),\n",
       " ('multipart(text/plain, application/octet-stream)', 1),\n",
       " ('multipart(text/html, text/plain)', 1),\n",
       " ('multipart(multipart(text/html), application/octet-stream, image/jpeg)', 1),\n",
       " ('multipart(multipart(text/plain, text/html), image/gif)', 1),\n",
       " ('multipart/alternative', 1)]"
      ]
     },
     "execution_count": 15,
     "metadata": {},
     "output_type": "execute_result"
    }
   ],
   "source": [
    "structures_counter(spam_emails).most_common()"
   ]
  },
  {
   "cell_type": "code",
   "execution_count": 16,
   "id": "039a4b1e-0c72-4f62-b205-ac309b2022a7",
   "metadata": {},
   "outputs": [
    {
     "name": "stdout",
     "output_type": "stream",
     "text": [
      "Return-Path : <12a1mailbot1@web.de>\n",
      "Delivered-To : zzzz@localhost.spamassassin.taint.org\n",
      "Received : from localhost (localhost [127.0.0.1])\tby phobos.labs.spamassassin.taint.org (Postfix) with ESMTP id 136B943C32\tfor <zzzz@localhost>; Thu, 22 Aug 2002 08:17:21 -0400 (EDT)\n",
      "Received : from mail.webnote.net [193.120.211.219]\tby localhost with POP3 (fetchmail-5.9.0)\tfor zzzz@localhost (single-drop); Thu, 22 Aug 2002 13:17:21 +0100 (IST)\n",
      "Received : from dd_it7 ([210.97.77.167])\tby webnote.net (8.9.3/8.9.3) with ESMTP id NAA04623\tfor <zzzz@spamassassin.taint.org>; Thu, 22 Aug 2002 13:09:41 +0100\n",
      "From : 12a1mailbot1@web.de\n",
      "Received : from r-smtp.korea.com - 203.122.2.197 by dd_it7  with Microsoft SMTPSVC(5.5.1775.675.6);\t Sat, 24 Aug 2002 09:42:10 +0900\n",
      "To : dcek1a1@netsgo.com\n",
      "Subject : Life Insurance - Why Pay More?\n",
      "Date : Wed, 21 Aug 2002 20:31:57 -1600\n",
      "MIME-Version : 1.0\n",
      "Message-ID : <0103c1042001882DD_IT7@dd_it7>\n",
      "Content-Type : text/html; charset=\"iso-8859-1\"\n",
      "Content-Transfer-Encoding : quoted-printable\n"
     ]
    }
   ],
   "source": [
    "for header, value in spam_emails[0].items():\n",
    "    print(header, \":\", value)"
   ]
  },
  {
   "cell_type": "code",
   "execution_count": 17,
   "id": "7bdc1306-7286-406f-8c30-f25c6c36da93",
   "metadata": {},
   "outputs": [
    {
     "data": {
      "text/plain": [
       "'Life Insurance - Why Pay More?'"
      ]
     },
     "execution_count": 17,
     "metadata": {},
     "output_type": "execute_result"
    }
   ],
   "source": [
    "spam_emails[0][\"Subject\"]"
   ]
  },
  {
   "cell_type": "code",
   "execution_count": 18,
   "id": "55e88b3b-6206-4a72-8f8f-2c3c9bf7d957",
   "metadata": {},
   "outputs": [
    {
     "data": {
      "text/plain": [
       "<email.message.EmailMessage at 0x13e55e950>"
      ]
     },
     "execution_count": 18,
     "metadata": {},
     "output_type": "execute_result"
    }
   ],
   "source": [
    "spam_emails[0]"
   ]
  },
  {
   "cell_type": "code",
   "execution_count": 19,
   "id": "db1d391f-098e-4254-9f61-a522c226a4e0",
   "metadata": {},
   "outputs": [
    {
     "data": {
      "text/plain": [
       "[('Return-Path', '<12a1mailbot1@web.de>'),\n",
       " ('Delivered-To', 'zzzz@localhost.spamassassin.taint.org'),\n",
       " ('Received',\n",
       "  'from localhost (localhost [127.0.0.1])\\tby phobos.labs.spamassassin.taint.org (Postfix) with ESMTP id 136B943C32\\tfor <zzzz@localhost>; Thu, 22 Aug 2002 08:17:21 -0400 (EDT)'),\n",
       " ('Received',\n",
       "  'from mail.webnote.net [193.120.211.219]\\tby localhost with POP3 (fetchmail-5.9.0)\\tfor zzzz@localhost (single-drop); Thu, 22 Aug 2002 13:17:21 +0100 (IST)'),\n",
       " ('Received',\n",
       "  'from dd_it7 ([210.97.77.167])\\tby webnote.net (8.9.3/8.9.3) with ESMTP id NAA04623\\tfor <zzzz@spamassassin.taint.org>; Thu, 22 Aug 2002 13:09:41 +0100'),\n",
       " ('From', '12a1mailbot1@web.de'),\n",
       " ('Received',\n",
       "  'from r-smtp.korea.com - 203.122.2.197 by dd_it7  with Microsoft SMTPSVC(5.5.1775.675.6);\\t Sat, 24 Aug 2002 09:42:10 +0900'),\n",
       " ('To', 'dcek1a1@netsgo.com'),\n",
       " ('Subject', 'Life Insurance - Why Pay More?'),\n",
       " ('Date', 'Wed, 21 Aug 2002 20:31:57 -1600'),\n",
       " ('MIME-Version', '1.0'),\n",
       " ('Message-ID', '<0103c1042001882DD_IT7@dd_it7>'),\n",
       " ('Content-Type', 'text/html; charset=\"iso-8859-1\"'),\n",
       " ('Content-Transfer-Encoding', 'quoted-printable')]"
      ]
     },
     "execution_count": 19,
     "metadata": {},
     "output_type": "execute_result"
    }
   ],
   "source": [
    "spam_emails[0].items()"
   ]
  },
  {
   "cell_type": "code",
   "execution_count": 20,
   "id": "b431fb99-d80e-402e-a8a2-dfd4d6bb8596",
   "metadata": {},
   "outputs": [],
   "source": [
    "import numpy as np\n",
    "from sklearn.model_selection import train_test_split\n",
    "\n",
    "X = np.array(ham_emails + spam_emails, dtype=object)\n",
    "y = np.array([0] * len(ham_emails) + [1] * len(spam_emails))\n",
    "\n",
    "X_train, X_test, y_train, y_test = train_test_split(X, y, test_size=0.2,\n",
    "                                                    random_state=42)"
   ]
  },
  {
   "cell_type": "code",
   "execution_count": 21,
   "id": "d49a94be-e188-40e8-9717-c801bb88168f",
   "metadata": {},
   "outputs": [
    {
     "name": "stdout",
     "output_type": "stream",
     "text": [
      "Return-Path: <12a1mailbot1@web.de>\n",
      "Delivered-To: zzzz@localhost.spamassassin.taint.org\n",
      "Received: from localhost (localhost [127.0.0.1])\n",
      "\tby phobos.labs.spamassassin.taint.org (Postfix) with ESMTP id 136B943C32\n",
      "\tfor <zzzz@localhost>; Thu, 22 Aug 2002 08:17:21 -0400 (EDT)\n",
      "Received: from mail.webnote.net [193.120.211.219]\n",
      "\tby localhost with POP3 (fetchmail-5.9.0)\n",
      "\tfor zzzz@localhost (single-drop); Thu, 22 Aug 2002 13:17:21 +0100 (IST)\n",
      "Received: from dd_it7 ([210.97.77.167])\n",
      "\tby webnote.net (8.9.3/8.9.3) with ESMTP id NAA04623\n",
      "\tfor <zzzz@spamassassin.taint.org>; Thu, 22 Aug 2002 13:09:41 +0100\n",
      "From: 12a1mailbot1@web.de\n",
      "Received: from r-smtp.korea.com - 203.122.2.197 by dd_it7  with Microsoft\n",
      " SMTPSVC(5.5.1775.675.6);\t Sat, 24 Aug 2002 09:42:10 +0900\n",
      "To: <dcek1a1@netsgo.com>\n",
      "Subject: Life Insurance - Why Pay More?\n",
      "Date: Wed, 21 Aug 2002 20:31:57 -1600\n",
      "MIME-Version: 1.0\n",
      "Message-ID: <0103c1042001882DD_IT7@dd_it7>\n",
      "Content-Type: text/html; charset=\"iso-8859-1\"\n",
      "Content-Transfer-Encoding: quoted-printable\n",
      "\n",
      "<!DOCTYPE HTML PUBLIC \"-//W3C//DTD HTML 4.0 Transitional//EN\">\n",
      "<HTML><HEAD>\n",
      "<META content=3D\"text/html; charset=3Dwindows-1252\" http-equiv=3DContent-T=\n",
      "ype>\n",
      "<META content=3D\"MSHTML 5.00.2314.1000\" name=3DGENERATOR></HEAD>\n",
      "<BODY><!-- Inserted by Calypso -->\n",
      "<TABLE border=3D0 cellPadding=3D0 cellSpacing=3D2 id=3D_CalyPrintHeader_ r=\n",
      "ules=3Dnone \n",
      "style=3D\"COLOR: black; DISPLAY: none\" width=3D\"100%\">\n",
      "  <TBODY>\n",
      "  <TR>\n",
      "    <TD colSpan=3D3>\n",
      "      <HR color=3Dblack noShade SIZE=3D1>\n",
      "    </TD></TR></TD></TR>\n",
      "  <TR>\n",
      "    <TD colSpan=3D3>\n",
      "      <HR color=3Dblack noShade SIZE=3D1>\n",
      "    </TD></TR></TBODY></TABLE><!-- End Calypso --><!-- Inserted by Calypso=\n",
      " --><FONT \n",
      "color=3D#000000 face=3DVERDANA,ARIAL,HELVETICA size=3D-2><BR></FONT></TD><=\n",
      "/TR></TABLE><!-- End Calypso --><FONT color=3D#ff0000 \n",
      "face=3D\"Copperplate Gothic Bold\" size=3D5 PTSIZE=3D\"10\">\n",
      "<CENTER>Save up to 70% on Life Insurance.</CENTER></FONT><FONT color=3D#ff=\n",
      "0000 \n",
      "face=3D\"Copperplate Gothic Bold\" size=3D5 PTSIZE=3D\"10\">\n",
      "<CENTER>Why Spend More Than You Have To?\n",
      "<CENTER><FONT color=3D#ff0000 face=3D\"Copperplate Gothic Bold\" size=3D5 PT=\n",
      "SIZE=3D\"10\">\n",
      "<CENTER>Life Quote Savings\n",
      "<CENTER>\n",
      "<P align=3Dleft></P>\n",
      "<P align=3Dleft></P></FONT></U></I></B><BR></FONT></U></B></U></I>\n",
      "<P></P>\n",
      "<CENTER>\n",
      "<TABLE border=3D0 borderColor=3D#111111 cellPadding=3D0 cellSpacing=3D0 wi=\n",
      "dth=3D650>\n",
      "  <TBODY></TBODY></TABLE>\n",
      "<TABLE border=3D0 borderColor=3D#111111 cellPadding=3D5 cellSpacing=3D0 wi=\n",
      "dth=3D650>\n",
      "  <TBODY>\n",
      "  <TR>\n",
      "    <TD colSpan=3D2 width=3D\"35%\"><B><FONT face=3DVerdana size=3D4>Ensurin=\n",
      "g your \n",
      "      family's financial security is very important. Life Quote Savings ma=\n",
      "kes \n",
      "      buying life insurance simple and affordable. We Provide FREE Access =\n",
      "to The \n",
      "      Very Best Companies and The Lowest Rates.</FONT></B></TD></TR>\n",
      "  <TR>\n",
      "    <TD align=3Dmiddle vAlign=3Dtop width=3D\"18%\">\n",
      "      <TABLE borderColor=3D#111111 width=3D\"100%\">\n",
      "        <TBODY>\n",
      "        <TR>\n",
      "          <TD style=3D\"PADDING-LEFT: 5px; PADDING-RIGHT: 5px\" width=3D\"100=\n",
      "%\"><FONT \n",
      "            face=3DVerdana size=3D4><B>Life Quote Savings</B> is FAST, EAS=\n",
      "Y and \n",
      "            SAVES you money! Let us help you get started with the best val=\n",
      "ues in \n",
      "            the country on new coverage. You can SAVE hundreds or even tho=\n",
      "usands \n",
      "            of dollars by requesting a FREE quote from Lifequote Savings. =\n",
      "Our \n",
      "            service will take you less than 5 minutes to complete. Shop an=\n",
      "d \n",
      "            compare. SAVE up to 70% on all types of Life insurance! \n",
      "</FONT></TD></TR>\n",
      "        <TR><BR><BR>\n",
      "          <TD height=3D50 style=3D\"PADDING-LEFT: 5px; PADDING-RIGHT: 5px\" \n",
      "          width=3D\"100%\">\n",
      "            <P align=3Dcenter><B><FONT face=3DVerdana size=3D5><A \n",
      "            href=3D\"http://website.e365.cc/savequote/\">Click Here For Your=\n",
      " \n",
      "            Free Quote!</A></FONT></B></P></TD>\n",
      "          <P><FONT face=3DVerdana size=3D4><STRONG>\n",
      "          <CENTER>Protecting your family is the best investment you'll eve=\n",
      "r \n",
      "          make!<BR></B></TD></TR>\n",
      "        <TR><BR><BR></STRONG></FONT></TD></TR></TD></TR>\n",
      "        <TR></TR></TBODY></TABLE>\n",
      "      <P align=3Dleft><FONT face=3D\"Arial, Helvetica, sans-serif\" size=3D2=\n",
      "></FONT></P>\n",
      "      <P></P>\n",
      "      <CENTER><BR><BR><BR>\n",
      "      <P></P>\n",
      "      <P align=3Dleft><BR></B><BR><BR><BR><BR></P>\n",
      "      <P align=3Dcenter><BR></P>\n",
      "      <P align=3Dleft><BR></B><BR><BR></FONT>If you are in receipt of this=\n",
      " email \n",
      "      in error and/or wish to be removed from our list, <A \n",
      "      href=3D\"mailto:coins@btamail.net.cn\">PLEASE CLICK HERE</A> AND TYPE =\n",
      "REMOVE. If you \n",
      "      reside in any state which prohibits e-mail solicitations for insuran=\n",
      "ce, \n",
      "      please disregard this \n",
      "      email.<BR></FONT><BR><BR><BR><BR><BR><BR><BR><BR><BR><BR><BR><BR><BR=\n",
      "><BR><BR><BR></FONT></P></CENTER></CENTER></TR></TBODY></TABLE></CENTER></=\n",
      "CENTER></CENTER></CENTER></CENTER></BODY></HTML>\n",
      "\n",
      "\n",
      "\n",
      "\n"
     ]
    }
   ],
   "source": [
    "for part in spam_emails[0].walk():\n",
    "    print(part)"
   ]
  },
  {
   "cell_type": "code",
   "execution_count": 22,
   "id": "e807c621-8ecb-40a2-8aa5-0300dd62c5c5",
   "metadata": {},
   "outputs": [
    {
     "data": {
      "text/plain": [
       "'<!DOCTYPE HTML PUBLIC \"-//W3C//DTD HTML 4.0 Transitional//EN\">\\n<HTML><HEAD>\\n<META content=\"text/html; charset=windows-1252\" http-equiv=Content-Type>\\n<META content=\"MSHTML 5.00.2314.1000\" name=GENERATOR></HEAD>\\n<BODY><!-- Inserted by Calypso -->\\n<TABLE border=0 cellPadding=0 cellSpacing=2 id=_CalyPrintHeader_ rules=none \\nstyle=\"COLOR: black; DISPLAY: none\" width=\"100%\">\\n  <TBODY>\\n  <TR>\\n    <TD colSpan=3>\\n      <HR color=black noShade SIZE=1>\\n    </TD></TR></TD></TR>\\n  <TR>\\n    <TD colSpan=3>\\n      <HR color=black noShade SIZE=1>\\n    </TD></TR></TBODY></TABLE><!-- End Calypso --><!-- Inserted by Calypso --><FONT \\ncolor=#000000 face=VERDANA,ARIAL,HELVETICA size=-2><BR></FONT></TD></TR></TABLE><!-- End Calypso --><FONT color=#ff0000 \\nface=\"Copperplate Gothic Bold\" size=5 PTSIZE=\"10\">\\n<CENTER>Save up to 70% on Life Insurance.</CENTER></FONT><FONT color=#ff0000 \\nface=\"Copperplate Gothic Bold\" size=5 PTSIZE=\"10\">\\n<CENTER>Why Spend More Than You Have To?\\n<CENTER><FONT color=#ff0000 face=\"Copperplate Gothic Bold\" size=5 PTSIZE=\"10\">\\n<CENTER>Life Quote Savings\\n<CENTER>\\n<P align=left></P>\\n<P align=left></P></FONT></U></I></B><BR></FONT></U></B></U></I>\\n<P></P>\\n<CENTER>\\n<TABLE border=0 borderColor=#111111 cellPadding=0 cellSpacing=0 width=650>\\n  <TBODY></TBODY></TABLE>\\n<TABLE border=0 borderColor=#111111 cellPadding=5 cellSpacing=0 width=650>\\n  <TBODY>\\n  <TR>\\n    <TD colSpan=2 width=\"35%\"><B><FONT face=Verdana size=4>Ensuring your \\n      family\\'s financial security is very important. Life Quote Savings makes \\n      buying life insurance simple and affordable. We Provide FREE Access to The \\n      Very Best Companies and The Lowest Rates.</FONT></B></TD></TR>\\n  <TR>\\n    <TD align=middle vAlign=top width=\"18%\">\\n      <TABLE borderColor=#111111 width=\"100%\">\\n        <TBODY>\\n        <TR>\\n          <TD style=\"PADDING-LEFT: 5px; PADDING-RIGHT: 5px\" width=\"100%\"><FONT \\n            face=Verdana size=4><B>Life Quote Savings</B> is FAST, EASY and \\n            SAVES you money! Let us help you get started with the best values in \\n            the country on new coverage. You can SAVE hundreds or even thousands \\n            of dollars by requesting a FREE quote from Lifequote Savings. Our \\n            service will take you less than 5 minutes to complete. Shop and \\n            compare. SAVE up to 70% on all types of Life insurance! \\n</FONT></TD></TR>\\n        <TR><BR><BR>\\n          <TD height=50 style=\"PADDING-LEFT: 5px; PADDING-RIGHT: 5px\" \\n          width=\"100%\">\\n            <P align=center><B><FONT face=Verdana size=5><A \\n            href=\"http://website.e365.cc/savequote/\">Click Here For Your \\n            Free Quote!</A></FONT></B></P></TD>\\n          <P><FONT face=Verdana size=4><STRONG>\\n          <CENTER>Protecting your family is the best investment you\\'ll ever \\n          make!<BR></B></TD></TR>\\n        <TR><BR><BR></STRONG></FONT></TD></TR></TD></TR>\\n        <TR></TR></TBODY></TABLE>\\n      <P align=left><FONT face=\"Arial, Helvetica, sans-serif\" size=2></FONT></P>\\n      <P></P>\\n      <CENTER><BR><BR><BR>\\n      <P></P>\\n      <P align=left><BR></B><BR><BR><BR><BR></P>\\n      <P align=center><BR></P>\\n      <P align=left><BR></B><BR><BR></FONT>If you are in receipt of this email \\n      in error and/or wish to be removed from our list, <A \\n      href=\"mailto:coins@btamail.net.cn\">PLEASE CLICK HERE</A> AND TYPE REMOVE. If you \\n      reside in any state which prohibits e-mail solicitations for insurance, \\n      please disregard this \\n      email.<BR></FONT><BR><BR><BR><BR><BR><BR><BR><BR><BR><BR><BR><BR><BR><BR><BR><BR></FONT></P></CENTER></CENTER></TR></TBODY></TABLE></CENTER></CENTER></CENTER></CENTER></CENTER></BODY></HTML>\\n\\n\\n\\n'"
      ]
     },
     "execution_count": 22,
     "metadata": {},
     "output_type": "execute_result"
    }
   ],
   "source": [
    "spam_emails[0].get_content()"
   ]
  },
  {
   "cell_type": "code",
   "execution_count": 23,
   "id": "228212d5-21d6-4978-8e12-a9233c1b22ef",
   "metadata": {},
   "outputs": [],
   "source": [
    "from bs4 import BeautifulSoup"
   ]
  },
  {
   "cell_type": "code",
   "execution_count": 24,
   "id": "c98a39d2-5d4c-45af-9a2d-b8eb5a33fad8",
   "metadata": {},
   "outputs": [],
   "source": [
    "soup = BeautifulSoup(spam_emails[0].get_content(), 'html.parser')"
   ]
  },
  {
   "cell_type": "code",
   "execution_count": 25,
   "id": "0757ee2a-0e46-4944-b664-8252e224cc07",
   "metadata": {},
   "outputs": [
    {
     "data": {
      "text/plain": [
       "\"Save up to 70% on Life Insurance.\\nWhy Spend More Than You Have To?\\nLife Quote Savings\\nEnsuring your \\n      family's financial security is very important. Life Quote Savings makes \\n      buying life insurance simple and affordable. We Provide FREE Access to The \\n      Very Best Companies and The Lowest Rates.\\nLife Quote Savings\\nis FAST, EASY and \\n            SAVES you money! Let us help you get started with the best values in \\n            the country on new coverage. You can SAVE hundreds or even thousands \\n            of dollars by requesting a FREE quote from Lifequote Savings. Our \\n            service will take you less than 5 minutes to complete. Shop and \\n            compare. SAVE up to 70% on all types of Life insurance!\\nClick Here For Your \\n            Free Quote!\\nProtecting your family is the best investment you'll ever \\n          make!\\nIf you are in receipt of this email \\n      in error and/or wish to be removed from our list,\\nPLEASE CLICK HERE\\nAND TYPE REMOVE. If you \\n      reside in any state which prohibits e-mail solicitations for insurance, \\n      please disregard this \\n      email.\""
      ]
     },
     "execution_count": 25,
     "metadata": {},
     "output_type": "execute_result"
    }
   ],
   "source": [
    "soup.get_text(separator='\\n', strip=True)"
   ]
  },
  {
   "cell_type": "code",
   "execution_count": 26,
   "id": "d324a38f-8b7c-4a96-bba4-5c30572afc04",
   "metadata": {},
   "outputs": [],
   "source": [
    "def html_to_plain_text(content):\n",
    "    soup = BeautifulSoup(content, 'html.parser')\n",
    "    return soup.get_text(separator='\\n', strip=True)"
   ]
  },
  {
   "cell_type": "code",
   "execution_count": 27,
   "id": "f2e20e7a-f3cc-4e51-b2b3-b9a0bcd06ff0",
   "metadata": {},
   "outputs": [],
   "source": [
    "def parse_email_content(email):\n",
    "    html = None\n",
    "    for part in email.walk():\n",
    "        ctype = part.get_content_type()\n",
    "        if not ctype in (\"text/plain\", \"text/html\"):\n",
    "            continue\n",
    "        try:\n",
    "            content = part.get_content()\n",
    "        except:\n",
    "            content = str(part.get_payload())\n",
    "        if ctype == \"text/plain\":\n",
    "            return content\n",
    "        else:\n",
    "            html = content\n",
    "    if html:\n",
    "        return html_to_plain_text(html)"
   ]
  },
  {
   "cell_type": "code",
   "execution_count": 28,
   "id": "e4a9f10d-de07-4671-9340-d995c63e15e6",
   "metadata": {},
   "outputs": [],
   "source": [
    "def extract_email_info(message):\n",
    "  info = {}\n",
    "  info['title'] = message.get('Subject', None)\n",
    "  info['content'] = parse_email_content(message)\n",
    "  return f\"{info['title']}\\n{info['content']}\""
   ]
  },
  {
   "cell_type": "code",
   "execution_count": 29,
   "id": "b1f88e4b-daa7-4366-96ea-d70b27265f1a",
   "metadata": {},
   "outputs": [],
   "source": [
    "extracted = extract_email_info(spam_emails[0])"
   ]
  },
  {
   "cell_type": "code",
   "execution_count": 30,
   "id": "8cee0d32-4b78-40e7-9084-2c67cf578ff1",
   "metadata": {},
   "outputs": [],
   "source": [
    "from nltk.tokenize import word_tokenize"
   ]
  },
  {
   "cell_type": "code",
   "execution_count": 31,
   "id": "628358e6-806b-47a3-bc2d-05f42d298902",
   "metadata": {},
   "outputs": [],
   "source": [
    "tokens = word_tokenize(extracted.lower())"
   ]
  },
  {
   "cell_type": "code",
   "execution_count": 32,
   "id": "b452d2f6-09be-4c75-84f1-9e933f910359",
   "metadata": {},
   "outputs": [
    {
     "data": {
      "text/plain": [
       "['life',\n",
       " 'insurance',\n",
       " '-',\n",
       " 'why',\n",
       " 'pay',\n",
       " 'more',\n",
       " '?',\n",
       " 'save',\n",
       " 'up',\n",
       " 'to',\n",
       " '70',\n",
       " '%',\n",
       " 'on',\n",
       " 'life',\n",
       " 'insurance',\n",
       " '.',\n",
       " 'why',\n",
       " 'spend',\n",
       " 'more',\n",
       " 'than',\n",
       " 'you',\n",
       " 'have',\n",
       " 'to',\n",
       " '?',\n",
       " 'life',\n",
       " 'quote',\n",
       " 'savings',\n",
       " 'ensuring',\n",
       " 'your',\n",
       " 'family',\n",
       " \"'s\",\n",
       " 'financial',\n",
       " 'security',\n",
       " 'is',\n",
       " 'very',\n",
       " 'important',\n",
       " '.',\n",
       " 'life',\n",
       " 'quote',\n",
       " 'savings',\n",
       " 'makes',\n",
       " 'buying',\n",
       " 'life',\n",
       " 'insurance',\n",
       " 'simple',\n",
       " 'and',\n",
       " 'affordable',\n",
       " '.',\n",
       " 'we',\n",
       " 'provide',\n",
       " 'free',\n",
       " 'access',\n",
       " 'to',\n",
       " 'the',\n",
       " 'very',\n",
       " 'best',\n",
       " 'companies',\n",
       " 'and',\n",
       " 'the',\n",
       " 'lowest',\n",
       " 'rates',\n",
       " '.',\n",
       " 'life',\n",
       " 'quote',\n",
       " 'savings',\n",
       " 'is',\n",
       " 'fast',\n",
       " ',',\n",
       " 'easy',\n",
       " 'and',\n",
       " 'saves',\n",
       " 'you',\n",
       " 'money',\n",
       " '!',\n",
       " 'let',\n",
       " 'us',\n",
       " 'help',\n",
       " 'you',\n",
       " 'get',\n",
       " 'started',\n",
       " 'with',\n",
       " 'the',\n",
       " 'best',\n",
       " 'values',\n",
       " 'in',\n",
       " 'the',\n",
       " 'country',\n",
       " 'on',\n",
       " 'new',\n",
       " 'coverage',\n",
       " '.',\n",
       " 'you',\n",
       " 'can',\n",
       " 'save',\n",
       " 'hundreds',\n",
       " 'or',\n",
       " 'even',\n",
       " 'thousands',\n",
       " 'of',\n",
       " 'dollars',\n",
       " 'by',\n",
       " 'requesting',\n",
       " 'a',\n",
       " 'free',\n",
       " 'quote',\n",
       " 'from',\n",
       " 'lifequote',\n",
       " 'savings',\n",
       " '.',\n",
       " 'our',\n",
       " 'service',\n",
       " 'will',\n",
       " 'take',\n",
       " 'you',\n",
       " 'less',\n",
       " 'than',\n",
       " '5',\n",
       " 'minutes',\n",
       " 'to',\n",
       " 'complete',\n",
       " '.',\n",
       " 'shop',\n",
       " 'and',\n",
       " 'compare',\n",
       " '.',\n",
       " 'save',\n",
       " 'up',\n",
       " 'to',\n",
       " '70',\n",
       " '%',\n",
       " 'on',\n",
       " 'all',\n",
       " 'types',\n",
       " 'of',\n",
       " 'life',\n",
       " 'insurance',\n",
       " '!',\n",
       " 'click',\n",
       " 'here',\n",
       " 'for',\n",
       " 'your',\n",
       " 'free',\n",
       " 'quote',\n",
       " '!',\n",
       " 'protecting',\n",
       " 'your',\n",
       " 'family',\n",
       " 'is',\n",
       " 'the',\n",
       " 'best',\n",
       " 'investment',\n",
       " 'you',\n",
       " \"'ll\",\n",
       " 'ever',\n",
       " 'make',\n",
       " '!',\n",
       " 'if',\n",
       " 'you',\n",
       " 'are',\n",
       " 'in',\n",
       " 'receipt',\n",
       " 'of',\n",
       " 'this',\n",
       " 'email',\n",
       " 'in',\n",
       " 'error',\n",
       " 'and/or',\n",
       " 'wish',\n",
       " 'to',\n",
       " 'be',\n",
       " 'removed',\n",
       " 'from',\n",
       " 'our',\n",
       " 'list',\n",
       " ',',\n",
       " 'please',\n",
       " 'click',\n",
       " 'here',\n",
       " 'and',\n",
       " 'type',\n",
       " 'remove',\n",
       " '.',\n",
       " 'if',\n",
       " 'you',\n",
       " 'reside',\n",
       " 'in',\n",
       " 'any',\n",
       " 'state',\n",
       " 'which',\n",
       " 'prohibits',\n",
       " 'e-mail',\n",
       " 'solicitations',\n",
       " 'for',\n",
       " 'insurance',\n",
       " ',',\n",
       " 'please',\n",
       " 'disregard',\n",
       " 'this',\n",
       " 'email',\n",
       " '.']"
      ]
     },
     "execution_count": 32,
     "metadata": {},
     "output_type": "execute_result"
    }
   ],
   "source": [
    "tokens"
   ]
  },
  {
   "cell_type": "code",
   "execution_count": 33,
   "id": "02ba947d-b649-4a4c-be10-7e836f4d5eaa",
   "metadata": {},
   "outputs": [
    {
     "data": {
      "text/plain": [
       "['life',\n",
       " 'insurance',\n",
       " 'why',\n",
       " 'pay',\n",
       " 'more',\n",
       " 'save',\n",
       " 'up',\n",
       " 'to',\n",
       " '70',\n",
       " 'on',\n",
       " 'life',\n",
       " 'insurance',\n",
       " 'why',\n",
       " 'spend',\n",
       " 'more',\n",
       " 'than',\n",
       " 'you',\n",
       " 'have',\n",
       " 'to',\n",
       " 'life',\n",
       " 'quote',\n",
       " 'savings',\n",
       " 'ensuring',\n",
       " 'your',\n",
       " 'family',\n",
       " 'financial',\n",
       " 'security',\n",
       " 'is',\n",
       " 'very',\n",
       " 'important',\n",
       " 'life',\n",
       " 'quote',\n",
       " 'savings',\n",
       " 'makes',\n",
       " 'buying',\n",
       " 'life',\n",
       " 'insurance',\n",
       " 'simple',\n",
       " 'and',\n",
       " 'affordable',\n",
       " 'we',\n",
       " 'provide',\n",
       " 'free',\n",
       " 'access',\n",
       " 'to',\n",
       " 'the',\n",
       " 'very',\n",
       " 'best',\n",
       " 'companies',\n",
       " 'and',\n",
       " 'the',\n",
       " 'lowest',\n",
       " 'rates',\n",
       " 'life',\n",
       " 'quote',\n",
       " 'savings',\n",
       " 'is',\n",
       " 'fast',\n",
       " 'easy',\n",
       " 'and',\n",
       " 'saves',\n",
       " 'you',\n",
       " 'money',\n",
       " 'let',\n",
       " 'us',\n",
       " 'help',\n",
       " 'you',\n",
       " 'get',\n",
       " 'started',\n",
       " 'with',\n",
       " 'the',\n",
       " 'best',\n",
       " 'values',\n",
       " 'in',\n",
       " 'the',\n",
       " 'country',\n",
       " 'on',\n",
       " 'new',\n",
       " 'coverage',\n",
       " 'you',\n",
       " 'can',\n",
       " 'save',\n",
       " 'hundreds',\n",
       " 'or',\n",
       " 'even',\n",
       " 'thousands',\n",
       " 'of',\n",
       " 'dollars',\n",
       " 'by',\n",
       " 'requesting',\n",
       " 'a',\n",
       " 'free',\n",
       " 'quote',\n",
       " 'from',\n",
       " 'lifequote',\n",
       " 'savings',\n",
       " 'our',\n",
       " 'service',\n",
       " 'will',\n",
       " 'take',\n",
       " 'you',\n",
       " 'less',\n",
       " 'than',\n",
       " '5',\n",
       " 'minutes',\n",
       " 'to',\n",
       " 'complete',\n",
       " 'shop',\n",
       " 'and',\n",
       " 'compare',\n",
       " 'save',\n",
       " 'up',\n",
       " 'to',\n",
       " '70',\n",
       " 'on',\n",
       " 'all',\n",
       " 'types',\n",
       " 'of',\n",
       " 'life',\n",
       " 'insurance',\n",
       " 'click',\n",
       " 'here',\n",
       " 'for',\n",
       " 'your',\n",
       " 'free',\n",
       " 'quote',\n",
       " 'protecting',\n",
       " 'your',\n",
       " 'family',\n",
       " 'is',\n",
       " 'the',\n",
       " 'best',\n",
       " 'investment',\n",
       " 'you',\n",
       " 'ever',\n",
       " 'make',\n",
       " 'if',\n",
       " 'you',\n",
       " 'are',\n",
       " 'in',\n",
       " 'receipt',\n",
       " 'of',\n",
       " 'this',\n",
       " 'email',\n",
       " 'in',\n",
       " 'error',\n",
       " 'wish',\n",
       " 'to',\n",
       " 'be',\n",
       " 'removed',\n",
       " 'from',\n",
       " 'our',\n",
       " 'list',\n",
       " 'please',\n",
       " 'click',\n",
       " 'here',\n",
       " 'and',\n",
       " 'type',\n",
       " 'remove',\n",
       " 'if',\n",
       " 'you',\n",
       " 'reside',\n",
       " 'in',\n",
       " 'any',\n",
       " 'state',\n",
       " 'which',\n",
       " 'prohibits',\n",
       " 'solicitations',\n",
       " 'for',\n",
       " 'insurance',\n",
       " 'please',\n",
       " 'disregard',\n",
       " 'this',\n",
       " 'email']"
      ]
     },
     "execution_count": 33,
     "metadata": {},
     "output_type": "execute_result"
    }
   ],
   "source": [
    "[w for w in tokens if w.isalnum()]"
   ]
  },
  {
   "cell_type": "code",
   "execution_count": 34,
   "id": "79374ec8-0e4a-4239-ab31-eb126eb9dcfc",
   "metadata": {},
   "outputs": [],
   "source": [
    "import re"
   ]
  },
  {
   "cell_type": "code",
   "execution_count": 35,
   "id": "d57ac06c-02c3-4433-8e87-0cc4844f245b",
   "metadata": {},
   "outputs": [
    {
     "data": {
      "text/plain": [
       "'NUMBER'"
      ]
     },
     "execution_count": 35,
     "metadata": {},
     "output_type": "execute_result"
    }
   ],
   "source": [
    "re.sub(r'-?\\d+(\\.\\d+)?(e-?\\d+)?', 'NUMBER', '-1.67e-3')"
   ]
  },
  {
   "cell_type": "code",
   "execution_count": 36,
   "id": "4fbb885c-a6b4-41c0-944d-2f13bd4b5f2c",
   "metadata": {},
   "outputs": [],
   "source": [
    "from sklearn.feature_extraction.text import CountVectorizer"
   ]
  },
  {
   "cell_type": "code",
   "execution_count": 39,
   "id": "b736888f-9744-4f2a-b35d-e367a8974ef1",
   "metadata": {},
   "outputs": [],
   "source": [
    "ctv= CountVectorizer()"
   ]
  },
  {
   "cell_type": "code",
   "execution_count": 40,
   "id": "764a26cd-8aad-405e-a9c2-9195db354fb1",
   "metadata": {},
   "outputs": [
    {
     "data": {
      "text/plain": [
       "array([[0, 0, 0, ..., 0, 0, 0],\n",
       "       [0, 0, 0, ..., 0, 0, 0],\n",
       "       [0, 0, 0, ..., 0, 0, 0],\n",
       "       ...,\n",
       "       [0, 0, 0, ..., 0, 0, 0],\n",
       "       [0, 0, 0, ..., 0, 0, 0],\n",
       "       [0, 0, 0, ..., 0, 0, 0]])"
      ]
     },
     "execution_count": 40,
     "metadata": {},
     "output_type": "execute_result"
    }
   ],
   "source": [
    "ctv.fit_transform(tokens).toarray()"
   ]
  },
  {
   "cell_type": "code",
   "execution_count": 41,
   "id": "863ebe41-0f08-4eef-b98a-0736d575788d",
   "metadata": {},
   "outputs": [],
   "source": [
    "ctv = CountVectorizer(tokenizer=word_tokenize, token_pattern=None)"
   ]
  },
  {
   "cell_type": "code",
   "execution_count": 42,
   "id": "6aa15bb9-02e5-4e82-931d-f45c9a441e59",
   "metadata": {},
   "outputs": [],
   "source": [
    "matrix = ctv.fit_transform([extracted.lower()])"
   ]
  },
  {
   "cell_type": "code",
   "execution_count": 43,
   "id": "e1b77174-c891-402a-aa00-2331d8f240aa",
   "metadata": {},
   "outputs": [
    {
     "data": {
      "text/plain": [
       "array([[ 4,  2,  1,  1,  3,  1, 10,  1,  2,  2,  1,  1,  1,  1,  5,  1,\n",
       "         1,  1,  1,  3,  1,  1,  1,  2,  1,  1,  1,  1,  1,  1,  1,  1,\n",
       "         1,  2,  1,  1,  1,  1,  2,  1,  1,  2,  3,  2,  1,  1,  1,  2,\n",
       "         1,  2,  1,  4,  5,  1,  3,  1,  1,  7,  1,  1,  1,  1,  1,  1,\n",
       "         1,  2,  1,  3,  3,  1,  2,  1,  2,  1,  1,  1,  5,  1,  1,  1,\n",
       "         1,  1,  1,  3,  1,  4,  1,  1,  1,  1,  1,  1,  1,  1,  1,  2,\n",
       "         5,  2,  1,  6,  1,  1,  2,  1,  1,  2,  1,  1,  2,  1,  1,  1,\n",
       "         8,  3]])"
      ]
     },
     "execution_count": 43,
     "metadata": {},
     "output_type": "execute_result"
    }
   ],
   "source": [
    "matrix.toarray()"
   ]
  },
  {
   "cell_type": "code",
   "execution_count": 44,
   "id": "181c18cf-24e1-4273-ae6e-01aae6fad05c",
   "metadata": {},
   "outputs": [
    {
     "data": {
      "text/plain": [
       "{'life': 57,\n",
       " 'insurance': 52,\n",
       " '-': 5,\n",
       " 'why': 108,\n",
       " 'pay': 71,\n",
       " 'more': 65,\n",
       " '?': 9,\n",
       " 'save': 83,\n",
       " 'up': 102,\n",
       " 'to': 99,\n",
       " '70': 8,\n",
       " '%': 1,\n",
       " 'on': 68,\n",
       " '.': 6,\n",
       " 'spend': 91,\n",
       " 'than': 95,\n",
       " 'you': 112,\n",
       " 'have': 45,\n",
       " 'quote': 76,\n",
       " 'savings': 85,\n",
       " 'ensuring': 34,\n",
       " 'your': 113,\n",
       " 'family': 38,\n",
       " \"'s\": 3,\n",
       " 'financial': 40,\n",
       " 'security': 86,\n",
       " 'is': 54,\n",
       " 'very': 105,\n",
       " 'important': 50,\n",
       " 'makes': 62,\n",
       " 'buying': 20,\n",
       " 'simple': 89,\n",
       " 'and': 14,\n",
       " 'affordable': 12,\n",
       " 'we': 106,\n",
       " 'provide': 75,\n",
       " 'free': 42,\n",
       " 'access': 11,\n",
       " 'the': 96,\n",
       " 'best': 19,\n",
       " 'companies': 24,\n",
       " 'lowest': 60,\n",
       " 'rates': 77,\n",
       " 'fast': 39,\n",
       " ',': 4,\n",
       " 'easy': 32,\n",
       " 'saves': 84,\n",
       " 'money': 64,\n",
       " '!': 0,\n",
       " 'let': 56,\n",
       " 'us': 103,\n",
       " 'help': 46,\n",
       " 'get': 44,\n",
       " 'started': 92,\n",
       " 'with': 111,\n",
       " 'values': 104,\n",
       " 'in': 51,\n",
       " 'country': 27,\n",
       " 'new': 66,\n",
       " 'coverage': 28,\n",
       " 'can': 22,\n",
       " 'hundreds': 48,\n",
       " 'or': 69,\n",
       " 'even': 36,\n",
       " 'thousands': 98,\n",
       " 'of': 67,\n",
       " 'dollars': 30,\n",
       " 'by': 21,\n",
       " 'requesting': 81,\n",
       " 'a': 10,\n",
       " 'from': 43,\n",
       " 'lifequote': 58,\n",
       " 'our': 70,\n",
       " 'service': 87,\n",
       " 'will': 109,\n",
       " 'take': 94,\n",
       " 'less': 55,\n",
       " '5': 7,\n",
       " 'minutes': 63,\n",
       " 'complete': 26,\n",
       " 'shop': 88,\n",
       " 'compare': 25,\n",
       " 'all': 13,\n",
       " 'types': 101,\n",
       " 'click': 23,\n",
       " 'here': 47,\n",
       " 'for': 41,\n",
       " 'protecting': 74,\n",
       " 'investment': 53,\n",
       " \"'ll\": 2,\n",
       " 'ever': 37,\n",
       " 'make': 61,\n",
       " 'if': 49,\n",
       " 'are': 17,\n",
       " 'receipt': 78,\n",
       " 'this': 97,\n",
       " 'email': 33,\n",
       " 'error': 35,\n",
       " 'and/or': 15,\n",
       " 'wish': 110,\n",
       " 'be': 18,\n",
       " 'removed': 80,\n",
       " 'list': 59,\n",
       " 'please': 72,\n",
       " 'type': 100,\n",
       " 'remove': 79,\n",
       " 'reside': 82,\n",
       " 'any': 16,\n",
       " 'state': 93,\n",
       " 'which': 107,\n",
       " 'prohibits': 73,\n",
       " 'e-mail': 31,\n",
       " 'solicitations': 90,\n",
       " 'disregard': 29}"
      ]
     },
     "execution_count": 44,
     "metadata": {},
     "output_type": "execute_result"
    }
   ],
   "source": [
    "ctv.vocabulary_"
   ]
  },
  {
   "cell_type": "code",
   "execution_count": 45,
   "id": "a2e10f63-d51b-43a6-8def-808fb918a1e1",
   "metadata": {},
   "outputs": [
    {
     "name": "stdout",
     "output_type": "stream",
     "text": [
      "['github.com', 'https://youtu.be/7Pq-S557XQU?t=3m32s']\n"
     ]
    }
   ],
   "source": [
    "import urlextract\n",
    "\n",
    "url_extractor = urlextract.URLExtract()\n",
    "some_text = \"Will it detect github.com and https://youtu.be/7Pq-S557XQU?t=3m32s\"\n",
    "print(url_extractor.find_urls(some_text))"
   ]
  },
  {
   "cell_type": "code",
   "execution_count": 46,
   "id": "d8c0530f-9ba8-41f5-9891-22f633fb00d7",
   "metadata": {},
   "outputs": [],
   "source": [
    "from sklearn.base import BaseEstimator, TransformerMixin\n",
    "from nltk.tokenize import word_tokenize\n",
    "import nltk\n",
    "from nltk.stem.snowball import SnowballStemmer\n",
    "\n",
    "class EmailToWordCounterTransformer(BaseEstimator, TransformerMixin):\n",
    "    def __init__(self, lower_case=True,\n",
    "                 remove_punctuation=True, replace_urls=True,\n",
    "                 replace_numbers=True, stemmer=nltk.PorterStemmer(),\n",
    "                 use_word_tokenize=True):\n",
    "        self.lower_case = lower_case\n",
    "        self.remove_punctuation = remove_punctuation\n",
    "        self.replace_urls = replace_urls\n",
    "        self.replace_numbers = replace_numbers\n",
    "        self.stemmer = stemmer\n",
    "        self.use_word_tokenize = use_word_tokenize\n",
    "        self.ctv = self.build_count_vectorizer()\n",
    "\n",
    "    def get_vocabulary(self):\n",
    "        return self.ctv.vocabulary_\n",
    "        \n",
    "\n",
    "    def preprocess_(self, email):\n",
    "        text = extract_email_info(email)\n",
    "        if self.lower_case:\n",
    "            text = text.lower()\n",
    "        if self.replace_urls and url_extractor is not None:\n",
    "            urls = list(set(url_extractor.find_urls(text)))\n",
    "            urls.sort(key=lambda url: len(url), reverse=True)\n",
    "            for url in urls:\n",
    "                text = text.replace(url, \" URL \")\n",
    "        if self.replace_numbers:\n",
    "            text = re.sub(r'-?\\d+(?:\\.\\d*)?(?:[eE][+-]?\\d+)?', 'NUMBER', text)\n",
    "        if self.remove_punctuation:\n",
    "            text = re.sub(r'\\W+', ' ', text, flags=re.M)\n",
    "        # if self.use_word_tokenize:\n",
    "        #     tokens = word_tokenize(text)\n",
    "        # else:\n",
    "        #     tokens = text.split()\n",
    "        # if self.stemmer is not None:\n",
    "        #     tokens = [self.stemmer.stem(token) for token in tokens]\n",
    "        return text\n",
    "   \n",
    "    def build_count_vectorizer(self):\n",
    "        if self.stemmer is not None:\n",
    "            def stemmed_words(doc):\n",
    "                analyzer = CountVectorizer().build_analyzer()\n",
    "                return (self.stemmer.stem(w) for w in analyzer(doc))\n",
    "            return CountVectorizer(analyzer=stemmed_words)\n",
    "        else:\n",
    "            return CountVectorizer()\n",
    "        \n",
    "    def fit(self, X, y=None):\n",
    "        X = [self.preprocess_(email) for email in X]\n",
    "        self.ctv.fit(X)\n",
    "        return self\n",
    "        \n",
    "    def transform(self, X, y=None):\n",
    "        X = [self.preprocess_(email) for email in X]\n",
    "        return self.ctv.transform(X)"
   ]
  },
  {
   "cell_type": "code",
   "execution_count": 47,
   "id": "4237fb19-977d-49f9-9404-a7378ca183ec",
   "metadata": {},
   "outputs": [
    {
     "data": {
      "text/plain": [
       "'life insurance why pay more save up to NUMBER on life insurance why spend more than you have to life quote savings ensuring your family s financial security is very important life quote savings makes buying life insurance simple and affordable we provide free access to the very best companies and the lowest rates life quote savings is fast easy and saves you money let us help you get started with the best values in the country on new coverage you can save hundreds or even thousands of dollars by requesting a free quote from lifequote savings our service will take you less than NUMBER minutes to complete shop and compare save up to NUMBER on all types of life insurance click here for your free quote protecting your family is the best investment you ll ever make if you are in receipt of this email in error and or wish to be removed from our list please click here and type remove if you reside in any state which prohibits e mail solicitations for insurance please disregard this email '"
      ]
     },
     "execution_count": 47,
     "metadata": {},
     "output_type": "execute_result"
    }
   ],
   "source": [
    "EmailToWordCounterTransformer().preprocess_(spam_emails[0])"
   ]
  },
  {
   "cell_type": "code",
   "execution_count": 48,
   "id": "a86b84c2-6056-4477-a9b3-396795966c90",
   "metadata": {},
   "outputs": [
    {
     "data": {
      "text/plain": [
       "array([[1, 1, 1, 6, 1, 1, 1, 3, 1, 1, 1, 2, 1, 1, 1, 1, 1, 1, 1, 1, 2, 1,\n",
       "        1, 1, 1, 2, 1, 1, 2, 3, 2, 1, 1, 1, 2, 1, 2, 1, 4, 5, 1, 3, 1, 1,\n",
       "        7, 1, 1, 1, 1, 1, 2, 1, 1, 2, 1, 3, 3, 3, 2, 2, 1, 2, 1, 1, 1, 5,\n",
       "        1, 1, 2, 1, 1, 8, 1, 1, 1, 1, 1, 1, 1, 1, 1, 2, 5, 2, 1, 6, 2, 2,\n",
       "        1, 1, 2, 1, 2, 1, 1, 1, 1, 8, 3]])"
      ]
     },
     "execution_count": 48,
     "metadata": {},
     "output_type": "execute_result"
    }
   ],
   "source": [
    "EmailToWordCounterTransformer().build_count_vectorizer().fit_transform([EmailToWordCounterTransformer().preprocess_(spam_emails[0])]).toarray()"
   ]
  },
  {
   "cell_type": "code",
   "execution_count": 49,
   "id": "f6c9e7c2-d145-42da-8717-310ffca259cf",
   "metadata": {},
   "outputs": [
    {
     "data": {
      "text/html": [
       "<style>#sk-container-id-2 {color: black;}#sk-container-id-2 pre{padding: 0;}#sk-container-id-2 div.sk-toggleable {background-color: white;}#sk-container-id-2 label.sk-toggleable__label {cursor: pointer;display: block;width: 100%;margin-bottom: 0;padding: 0.3em;box-sizing: border-box;text-align: center;}#sk-container-id-2 label.sk-toggleable__label-arrow:before {content: \"▸\";float: left;margin-right: 0.25em;color: #696969;}#sk-container-id-2 label.sk-toggleable__label-arrow:hover:before {color: black;}#sk-container-id-2 div.sk-estimator:hover label.sk-toggleable__label-arrow:before {color: black;}#sk-container-id-2 div.sk-toggleable__content {max-height: 0;max-width: 0;overflow: hidden;text-align: left;background-color: #f0f8ff;}#sk-container-id-2 div.sk-toggleable__content pre {margin: 0.2em;color: black;border-radius: 0.25em;background-color: #f0f8ff;}#sk-container-id-2 input.sk-toggleable__control:checked~div.sk-toggleable__content {max-height: 200px;max-width: 100%;overflow: auto;}#sk-container-id-2 input.sk-toggleable__control:checked~label.sk-toggleable__label-arrow:before {content: \"▾\";}#sk-container-id-2 div.sk-estimator input.sk-toggleable__control:checked~label.sk-toggleable__label {background-color: #d4ebff;}#sk-container-id-2 div.sk-label input.sk-toggleable__control:checked~label.sk-toggleable__label {background-color: #d4ebff;}#sk-container-id-2 input.sk-hidden--visually {border: 0;clip: rect(1px 1px 1px 1px);clip: rect(1px, 1px, 1px, 1px);height: 1px;margin: -1px;overflow: hidden;padding: 0;position: absolute;width: 1px;}#sk-container-id-2 div.sk-estimator {font-family: monospace;background-color: #f0f8ff;border: 1px dotted black;border-radius: 0.25em;box-sizing: border-box;margin-bottom: 0.5em;}#sk-container-id-2 div.sk-estimator:hover {background-color: #d4ebff;}#sk-container-id-2 div.sk-parallel-item::after {content: \"\";width: 100%;border-bottom: 1px solid gray;flex-grow: 1;}#sk-container-id-2 div.sk-label:hover label.sk-toggleable__label {background-color: #d4ebff;}#sk-container-id-2 div.sk-serial::before {content: \"\";position: absolute;border-left: 1px solid gray;box-sizing: border-box;top: 0;bottom: 0;left: 50%;z-index: 0;}#sk-container-id-2 div.sk-serial {display: flex;flex-direction: column;align-items: center;background-color: white;padding-right: 0.2em;padding-left: 0.2em;position: relative;}#sk-container-id-2 div.sk-item {position: relative;z-index: 1;}#sk-container-id-2 div.sk-parallel {display: flex;align-items: stretch;justify-content: center;background-color: white;position: relative;}#sk-container-id-2 div.sk-item::before, #sk-container-id-2 div.sk-parallel-item::before {content: \"\";position: absolute;border-left: 1px solid gray;box-sizing: border-box;top: 0;bottom: 0;left: 50%;z-index: -1;}#sk-container-id-2 div.sk-parallel-item {display: flex;flex-direction: column;z-index: 1;position: relative;background-color: white;}#sk-container-id-2 div.sk-parallel-item:first-child::after {align-self: flex-end;width: 50%;}#sk-container-id-2 div.sk-parallel-item:last-child::after {align-self: flex-start;width: 50%;}#sk-container-id-2 div.sk-parallel-item:only-child::after {width: 0;}#sk-container-id-2 div.sk-dashed-wrapped {border: 1px dashed gray;margin: 0 0.4em 0.5em 0.4em;box-sizing: border-box;padding-bottom: 0.4em;background-color: white;}#sk-container-id-2 div.sk-label label {font-family: monospace;font-weight: bold;display: inline-block;line-height: 1.2em;}#sk-container-id-2 div.sk-label-container {text-align: center;}#sk-container-id-2 div.sk-container {/* jupyter's `normalize.less` sets `[hidden] { display: none; }` but bootstrap.min.css set `[hidden] { display: none !important; }` so we also need the `!important` here to be able to override the default hidden behavior on the sphinx rendered scikit-learn.org. See: https://github.com/scikit-learn/scikit-learn/issues/21755 */display: inline-block !important;position: relative;}#sk-container-id-2 div.sk-text-repr-fallback {display: none;}</style><div id=\"sk-container-id-2\" class=\"sk-top-container\"><div class=\"sk-text-repr-fallback\"><pre>EmailToWordCounterTransformer()</pre><b>In a Jupyter environment, please rerun this cell to show the HTML representation or trust the notebook. <br />On GitHub, the HTML representation is unable to render, please try loading this page with nbviewer.org.</b></div><div class=\"sk-container\" hidden><div class=\"sk-item\"><div class=\"sk-estimator sk-toggleable\"><input class=\"sk-toggleable__control sk-hidden--visually\" id=\"sk-estimator-id-2\" type=\"checkbox\" checked><label for=\"sk-estimator-id-2\" class=\"sk-toggleable__label sk-toggleable__label-arrow\">EmailToWordCounterTransformer</label><div class=\"sk-toggleable__content\"><pre>EmailToWordCounterTransformer()</pre></div></div></div></div></div>"
      ],
      "text/plain": [
       "EmailToWordCounterTransformer()"
      ]
     },
     "execution_count": 49,
     "metadata": {},
     "output_type": "execute_result"
    }
   ],
   "source": [
    "EmailToWordCounterTransformer().fit([spam_emails[0]])"
   ]
  },
  {
   "cell_type": "code",
   "execution_count": 50,
   "id": "7b6447e7-9e5c-4d10-8470-18f0e1498928",
   "metadata": {},
   "outputs": [
    {
     "data": {
      "text/plain": [
       "<3x144 sparse matrix of type '<class 'numpy.int64'>'\n",
       "\twith 211 stored elements in Compressed Sparse Row format>"
      ]
     },
     "execution_count": 50,
     "metadata": {},
     "output_type": "execute_result"
    }
   ],
   "source": [
    "EmailToWordCounterTransformer().fit_transform(spam_emails[:3])"
   ]
  },
  {
   "cell_type": "code",
   "execution_count": 51,
   "id": "e20ce314-0e2d-48da-99fb-eaaceef28905",
   "metadata": {},
   "outputs": [
    {
     "data": {
      "text/plain": [
       "{'re': 110,\n",
       " 'hanson': 54,\n",
       " 'sept': 119,\n",
       " 'number': 96,\n",
       " 'messag': 84,\n",
       " 'in': 64,\n",
       " 'the': 134,\n",
       " 'nation': 92,\n",
       " 'review': 114,\n",
       " 'chuck': 21,\n",
       " 'murcko': 88,\n",
       " 'wrote': 155,\n",
       " 'stuff': 127,\n",
       " 'yawn': 157,\n",
       " 'vox': 146,\n",
       " 'found': 46,\n",
       " 'father': 38,\n",
       " 'on': 98,\n",
       " 'religion': 112,\n",
       " 'some': 125,\n",
       " 'interest': 67,\n",
       " 'quot': 108,\n",
       " 'url': 144,\n",
       " 'thoma': 137,\n",
       " 'jefferson': 70,\n",
       " 'have': 55,\n",
       " 'examin': 35,\n",
       " 'all': 4,\n",
       " 'known': 75,\n",
       " 'superstit': 129,\n",
       " 'of': 97,\n",
       " 'word': 153,\n",
       " 'and': 8,\n",
       " 'do': 25,\n",
       " 'not': 94,\n",
       " 'find': 40,\n",
       " 'our': 101,\n",
       " 'particular': 104,\n",
       " 'christian': 20,\n",
       " 'one': 99,\n",
       " 'redeem': 111,\n",
       " 'featur': 39,\n",
       " 'they': 135,\n",
       " 'are': 9,\n",
       " 'alik': 3,\n",
       " 'fabl': 36,\n",
       " 'mytholog': 91,\n",
       " 'million': 85,\n",
       " 'innoc': 66,\n",
       " 'men': 83,\n",
       " 'women': 152,\n",
       " 'children': 19,\n",
       " 'sinc': 123,\n",
       " 'introduct': 68,\n",
       " 'been': 14,\n",
       " 'burnt': 16,\n",
       " 'tortur': 139,\n",
       " 'fine': 41,\n",
       " 'imprison': 63,\n",
       " 'what': 150,\n",
       " 'ha': 51,\n",
       " 'effect': 30,\n",
       " 'thi': 136,\n",
       " 'coercion': 22,\n",
       " 'to': 138,\n",
       " 'make': 79,\n",
       " 'half': 52,\n",
       " 'world': 154,\n",
       " 'fool': 43,\n",
       " 'other': 100,\n",
       " 'hypocrit': 60,\n",
       " 'support': 130,\n",
       " 'rogueri': 116,\n",
       " 'error': 33,\n",
       " 'over': 103,\n",
       " 'earth': 29,\n",
       " 'six': 124,\n",
       " 'histor': 57,\n",
       " 'american': 6,\n",
       " 'by': 17,\n",
       " 'john': 72,\n",
       " 'remsburg': 113,\n",
       " 'letter': 78,\n",
       " 'william': 151,\n",
       " 'short': 121,\n",
       " 'again': 2,\n",
       " 'becom': 13,\n",
       " 'most': 87,\n",
       " 'pervert': 107,\n",
       " 'system': 131,\n",
       " 'that': 133,\n",
       " 'ever': 34,\n",
       " 'shone': 120,\n",
       " 'man': 80,\n",
       " 'absurd': 0,\n",
       " 'untruth': 142,\n",
       " 'were': 149,\n",
       " 'perpetr': 106,\n",
       " 'upon': 143,\n",
       " 'teach': 132,\n",
       " 'jesu': 71,\n",
       " 'larg': 76,\n",
       " 'band': 10,\n",
       " 'dupe': 27,\n",
       " 'import': 62,\n",
       " 'led': 77,\n",
       " 'paul': 105,\n",
       " 'first': 42,\n",
       " 'great': 49,\n",
       " 'corrupt': 24,\n",
       " 'zzzzteana': 160,\n",
       " 'wacki': 147,\n",
       " 'imam': 61,\n",
       " 'forteana': 45,\n",
       " 'martin': 81,\n",
       " 'adamson': 1,\n",
       " 'for': 44,\n",
       " 'an': 7,\n",
       " 'altern': 5,\n",
       " 'rather': 109,\n",
       " 'more': 86,\n",
       " 'factual': 37,\n",
       " 'base': 11,\n",
       " 'rundown': 117,\n",
       " 'hamza': 53,\n",
       " 'career': 18,\n",
       " 'includ': 65,\n",
       " 'hi': 56,\n",
       " 'belief': 15,\n",
       " 'non': 93,\n",
       " 'muslim': 90,\n",
       " 'yemen': 158,\n",
       " 'should': 122,\n",
       " 'be': 12,\n",
       " 'murder': 89,\n",
       " 'outright': 102,\n",
       " 'we': 148,\n",
       " 'know': 74,\n",
       " 'how': 58,\n",
       " 'unbias': 140,\n",
       " 'memri': 82,\n",
       " 'is': 69,\n",
       " 'don': 26,\n",
       " 'html': 59,\n",
       " 'rob': 115,\n",
       " 'yahoo': 156,\n",
       " 'group': 50,\n",
       " 'sponsor': 126,\n",
       " 'dvd': 28,\n",
       " 'free': 47,\n",
       " 'join': 73,\n",
       " 'now': 95,\n",
       " 'unsubscrib': 141,\n",
       " 'from': 48,\n",
       " 'send': 118,\n",
       " 'email': 32,\n",
       " 'egroup': 31,\n",
       " 'com': 23,\n",
       " 'your': 159,\n",
       " 'use': 145,\n",
       " 'subject': 128}"
      ]
     },
     "execution_count": 51,
     "metadata": {},
     "output_type": "execute_result"
    }
   ],
   "source": [
    "X_few = X_train[:3]\n",
    "trasformer = EmailToWordCounterTransformer()\n",
    "X_few_wordcounts = trasformer.fit_transform(X_few)\n",
    "# X_few_wordcounts.toarray()\n",
    "trasformer.get_vocabulary()"
   ]
  },
  {
   "cell_type": "code",
   "execution_count": 52,
   "id": "7b924126-6275-4c38-b166-9aaa49125e45",
   "metadata": {},
   "outputs": [],
   "source": [
    "transformer = EmailToWordCounterTransformer()"
   ]
  },
  {
   "cell_type": "code",
   "execution_count": 53,
   "id": "90d59dfc-50dd-4625-a79d-db27478b866e",
   "metadata": {},
   "outputs": [],
   "source": [
    "X_train_transformed = transformer.fit_transform(X_train)"
   ]
  },
  {
   "cell_type": "code",
   "execution_count": 54,
   "id": "2df7349e-9ceb-4be0-9d24-f7bfb93099b6",
   "metadata": {},
   "outputs": [
    {
     "data": {
      "text/plain": [
       "0.9845833333333333"
      ]
     },
     "execution_count": 54,
     "metadata": {},
     "output_type": "execute_result"
    }
   ],
   "source": [
    "from sklearn.linear_model import LogisticRegression\n",
    "from sklearn.model_selection import cross_val_score\n",
    "\n",
    "log_clf = LogisticRegression(max_iter=1000, random_state=42)\n",
    "score = cross_val_score(log_clf, X_train_transformed, y_train, cv=3)\n",
    "score.mean()"
   ]
  },
  {
   "cell_type": "code",
   "execution_count": 55,
   "id": "a0d8c3d1-6b87-40c8-9b44-5fe495efdd54",
   "metadata": {},
   "outputs": [
    {
     "name": "stdout",
     "output_type": "stream",
     "text": [
      "Precision: 97.87%\n",
      "Recall: 96.84%\n"
     ]
    }
   ],
   "source": [
    "from sklearn.metrics import precision_score, recall_score\n",
    "\n",
    "X_test_transformed = transformer.transform(X_test)\n",
    "\n",
    "log_clf = LogisticRegression(max_iter=1000, random_state=42)\n",
    "log_clf.fit(X_train_transformed, y_train)\n",
    "\n",
    "y_pred = log_clf.predict(X_test_transformed)\n",
    "\n",
    "print(f\"Precision: {precision_score(y_test, y_pred):.2%}\")\n",
    "print(f\"Recall: {recall_score(y_test, y_pred):.2%}\")"
   ]
  }
 ],
 "metadata": {
  "kernelspec": {
   "display_name": "ybml",
   "language": "python",
   "name": "ybml"
  },
  "language_info": {
   "codemirror_mode": {
    "name": "ipython",
    "version": 3
   },
   "file_extension": ".py",
   "mimetype": "text/x-python",
   "name": "python",
   "nbconvert_exporter": "python",
   "pygments_lexer": "ipython3",
   "version": "3.10.13"
  }
 },
 "nbformat": 4,
 "nbformat_minor": 5
}
